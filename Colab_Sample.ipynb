{
 "cells": [
  {
   "cell_type": "markdown",
   "metadata": {},
   "source": [
    "# Introduction to Google Colab\n",
    "Overview of Google Colab and its features."
   ]
  },
  {
   "cell_type": "code",
   "execution_count": null,
   "metadata": {},
   "outputs": [],
   "source": [
    "# Introduction to Google Colab\n",
    "\n",
    "# Google Colab is a free, cloud-based Jupyter notebook environment provided by Google. It allows you to write and execute Python code in your browser, with access to powerful computing resources, including GPUs and TPUs.\n",
    "\n",
    "# Features of Google Colab:\n",
    "# - Free access to GPUs and TPUs\n",
    "# - Easy sharing and collaboration\n",
    "# - Integration with Google Drive\n",
    "# - Pre-installed libraries and packages\n",
    "# - Ability to install additional packages\n",
    "\n",
    "# To get started with Google Colab, simply go to https://colab.research.google.com/ and sign in with your Google account. You can create a new notebook or upload an existing one from your local machine or Google Drive."
   ]
  },
  {
   "cell_type": "markdown",
   "metadata": {},
   "source": [
    "# Setting Up Google Colab\n",
    "Instructions on how to set up and access Google Colab."
   ]
  },
  {
   "cell_type": "code",
   "execution_count": null,
   "metadata": {},
   "outputs": [],
   "source": [
    "# Setting Up Google Colab\n",
    "\n",
    "# Step 1: Open Google Colab\n",
    "# Go to https://colab.research.google.com/ in your web browser.\n",
    "\n",
    "# Step 2: Sign In\n",
    "# Sign in with your Google account if you are not already signed in.\n",
    "\n",
    "# Step 3: Create a New Notebook\n",
    "# Click on \"File\" in the top-left corner, then select \"New notebook\". This will create a new Jupyter notebook in Google Colab.\n",
    "\n",
    "# Step 4: Rename Your Notebook\n",
    "# Click on the default name \"Untitled\" at the top of the notebook and rename it to something meaningful, like \"My First Colab Notebook\".\n",
    "\n",
    "# Step 5: Connect to a Runtime\n",
    "# Click on the \"Connect\" button in the top-right corner to connect to a runtime. This will allocate the necessary computing resources for your notebook.\n",
    "\n",
    "# Step 6: Start Coding\n",
    "# You can now start writing and executing Python code in the cells of your notebook. For example, you can run the following code to print \"Hello, Google Colab!\":\n",
    "\n",
    "print(\"Hello, Google Colab!\")"
   ]
  },
  {
   "cell_type": "markdown",
   "metadata": {},
   "source": [
    "# Running Python Code\n",
    "Examples of running Python code cells in Google Colab."
   ]
  },
  {
   "cell_type": "code",
   "execution_count": null,
   "metadata": {},
   "outputs": [],
   "source": [
    "# Running Python Code\n",
    "\n",
    "# Examples of running Python code cells in Google Colab.\n",
    "\n",
    "# Example 1: Basic Arithmetic\n",
    "# You can perform basic arithmetic operations in a code cell.\n",
    "a = 10\n",
    "b = 5\n",
    "sum_result = a + b\n",
    "print(\"Sum:\", sum_result)\n",
    "\n",
    "# Example 2: Importing Libraries\n",
    "# You can import libraries and use them in your code.\n",
    "import numpy as np\n",
    "array = np.array([1, 2, 3, 4, 5])\n",
    "print(\"Numpy Array:\", array)\n",
    "\n",
    "# Example 3: Defining Functions\n",
    "# You can define and call functions in your code cells.\n",
    "def greet(name):\n",
    "    return f\"Hello, {name}!\"\n",
    "\n",
    "greeting = greet(\"Colab User\")\n",
    "print(greeting)\n",
    "\n",
    "# Example 4: Using Loops\n",
    "# You can use loops to iterate over data.\n",
    "for i in range(5):\n",
    "    print(f\"Iteration {i+1}\")\n",
    "\n",
    "# Example 5: Plotting Graphs\n",
    "# You can use libraries like Matplotlib to plot graphs.\n",
    "import matplotlib.pyplot as plt\n",
    "\n",
    "x = np.linspace(0, 10, 100)\n",
    "y = np.sin(x)\n",
    "\n",
    "plt.plot(x, y)\n",
    "plt.title(\"Sine Wave\")\n",
    "plt.xlabel(\"x\")\n",
    "plt.ylabel(\"sin(x)\")\n",
    "plt.show()"
   ]
  },
  {
   "cell_type": "markdown",
   "metadata": {},
   "source": [
    "# Uploading and Accessing Files\n",
    "How to upload files to Colab and access them within the notebook."
   ]
  },
  {
   "cell_type": "code",
   "execution_count": null,
   "metadata": {},
   "outputs": [],
   "source": [
    "# Uploading and Accessing Files\n",
    "\n",
    "# Step 1: Upload Files\n",
    "# Use the following code to upload files from your local machine to Google Colab.\n",
    "\n",
    "from google.colab import files\n",
    "\n",
    "uploaded = files.upload()\n",
    "\n",
    "# Step 2: Access Uploaded Files\n",
    "# The uploaded files are stored in the `/content` directory. You can access them using standard file operations.\n",
    "\n",
    "import os\n",
    "\n",
    "# List the files in the /content directory\n",
    "uploaded_files = os.listdir('/content')\n",
    "print(\"Uploaded Files:\", uploaded_files)\n",
    "\n",
    "# Read the content of an uploaded file (example: 'example.txt')\n",
    "file_path = '/content/example.txt'\n",
    "if 'example.txt' in uploaded_files:\n",
    "    with open(file_path, 'r') as file:\n",
    "        content = file.read()\n",
    "        print(\"File Content:\\n\", content)\n",
    "else:\n",
    "    print(\"example.txt not found in the uploaded files.\")"
   ]
  },
  {
   "cell_type": "markdown",
   "metadata": {},
   "source": [
    "# Using Google Drive with Colab\n",
    "Instructions on how to mount Google Drive to access files directly from your Drive."
   ]
  },
  {
   "cell_type": "code",
   "execution_count": null,
   "metadata": {},
   "outputs": [],
   "source": [
    "from google.colab import drive\n",
    "\n",
    "# Mount Google Drive\n",
    "drive.mount('/content/drive')\n",
    "\n",
    "# List the contents of the root directory of Google Drive\n",
    "drive_root_files = os.listdir('/content/drive/My Drive')\n",
    "print(\"Files in Google Drive root directory:\", drive_root_files)\n",
    "\n",
    "# Access a specific file in Google Drive (example: 'example.txt' in the root directory)\n",
    "drive_file_path = '/content/drive/My Drive/example.txt'\n",
    "if 'example.txt' in drive_root_files:\n",
    "    with open(drive_file_path, 'r') as file:\n",
    "        drive_content = file.read()\n",
    "        print(\"Google Drive File Content:\\n\", drive_content)\n",
    "else:\n",
    "    print(\"example.txt not found in Google Drive root directory.\")"
   ]
  },
  {
   "cell_type": "markdown",
   "metadata": {},
   "source": [
    "# Installing Libraries\n",
    "How to install additional Python libraries using pip in Colab."
   ]
  },
  {
   "cell_type": "code",
   "execution_count": null,
   "metadata": {},
   "outputs": [],
   "source": [
    "# Installing Libraries\n",
    "\n",
    "# You can install additional Python libraries using pip in Google Colab. Use the `!` prefix to run shell commands in a code cell.\n",
    "\n",
    "# Example: Installing the `requests` library\n",
    "!pip install requests\n",
    "\n",
    "# After installation, you can import and use the library in your code.\n",
    "import requests\n",
    "\n",
    "response = requests.get('https://api.github.com')\n",
    "print(\"GitHub API Response Status Code:\", response.status_code)"
   ]
  },
  {
   "cell_type": "markdown",
   "metadata": {},
   "source": [
    "# Using GPUs and TPUs\n",
    "How to enable and use GPU and TPU hardware accelerators in Colab."
   ]
  },
  {
   "cell_type": "code",
   "execution_count": null,
   "metadata": {},
   "outputs": [],
   "source": [
    "# Using GPUs and TPUs\n",
    "\n",
    "# Step 1: Enable GPU or TPU\n",
    "# To enable GPU or TPU, go to the menu bar and select `Runtime` > `Change runtime type`. In the pop-up window, select `GPU` or `TPU` from the `Hardware accelerator` drop-down menu, then click `Save`.\n",
    "\n",
    "# Step 2: Verify GPU or TPU Availability\n",
    "# You can verify if the GPU or TPU is available using the following code.\n",
    "\n",
    "import tensorflow as tf\n",
    "\n",
    "# Check for GPU\n",
    "gpu_available = tf.config.list_physical_devices('GPU')\n",
    "print(\"GPU Available:\", gpu_available)\n",
    "\n",
    "# Check for TPU\n",
    "try:\n",
    "    tpu = tf.distribute.cluster_resolver.TPUClusterResolver()\n",
    "    print('TPU Available:', tpu)\n",
    "except ValueError:\n",
    "    print('TPU not available')\n",
    "\n",
    "# Step 3: Use GPU or TPU in Your Code\n",
    "# Example: Using GPU with TensorFlow\n",
    "if gpu_available:\n",
    "    with tf.device('/GPU:0'):\n",
    "        a = tf.constant([[1.0, 2.0], [3.0, 4.0]])\n",
    "        b = tf.constant([[1.0, 1.0], [0.0, 1.0]])\n",
    "        c = tf.matmul(a, b)\n",
    "        print(\"Matrix multiplication result using GPU:\\n\", c)\n",
    "\n",
    "# Example: Using TPU with TensorFlow\n",
    "if tpu:\n",
    "    tf.config.experimental_connect_to_cluster(tpu)\n",
    "    tf.tpu.experimental.initialize_tpu_system(tpu)\n",
    "    strategy = tf.distribute.TPUStrategy(tpu)\n",
    "    \n",
    "    with strategy.scope():\n",
    "        a = tf.constant([[1.0, 2.0], [3.0, 4.0]])\n",
    "        b = tf.constant([[1.0, 1.0], [0.0, 1.0]])\n",
    "        c = tf.matmul(a, b)\n",
    "        print(\"Matrix multiplication result using TPU:\\n\", c)"
   ]
  }
 ],
 "metadata": {
  "language_info": {
   "name": "python"
  }
 },
 "nbformat": 4,
 "nbformat_minor": 2
}
